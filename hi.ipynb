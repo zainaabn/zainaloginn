#Build the KNN model and fit the data to it
knn_classifier = KNeighborsClassifier(n_neighbors=5)
knn_classifier.fit(data_train_resampled, target_train_resampled)
#Predict the values using the KNN model
target_pred_knn = knn_classifier.predict(data_test)
